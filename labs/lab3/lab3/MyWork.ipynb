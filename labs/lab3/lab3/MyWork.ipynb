{
 "cells": [
  {
   "cell_type": "code",
   "execution_count": 5,
   "metadata": {},
   "outputs": [
    {
     "name": "stderr",
     "output_type": "stream",
     "text": [
      "C:\\Users\\gigabyte\\Anaconda3\\envs\\CE888\\lib\\site-packages\\matplotlib\\axes\\_axes.py:6521: MatplotlibDeprecationWarning: \n",
      "The 'normed' kwarg was deprecated in Matplotlib 2.1 and will be removed in 3.1. Use 'density' instead.\n",
      "  alternative=\"'density'\", removal=\"3.1\")\n"
     ]
    },
    {
     "data": {
      "image/png": "[encoded data removed]",
      "text/plain": [
       "<Figure size 432x288 with 1 Axes>"
      ]
     },
     "metadata": {
      "needs_background": "light"
     },
     "output_type": "display_data"
    },
    {
     "name": "stderr",
     "output_type": "stream",
     "text": [
      "C:\\Users\\gigabyte\\Anaconda3\\envs\\CE888\\lib\\site-packages\\sklearn\\ensemble\\forest.py:246: FutureWarning: The default value of n_estimators will change from 10 in version 0.20 to 100 in 0.22.\n",
      "  \"10 in version 0.20 to 100 in 0.22.\", FutureWarning)\n"
     ]
    },
    {
     "name": "stdout",
     "output_type": "stream",
     "text": [
      "Fold test accuracy: 0.9723233794610342\n",
      "Fold test accuracy: 0.9647972808934208\n",
      "Fold test accuracy: 0.9577567370721048\n",
      "Fold test accuracy: 0.9337217771303714\n",
      "Fold test accuracy: 0.9376062151007526\n",
      "Fold test accuracy: 0.945375091041515\n",
      "Fold test accuracy: 0.8970623937848993\n",
      "Fold test accuracy: 0.8800679776644816\n",
      "Fold test accuracy: 0.8460417678484702\n",
      "Fold test accuracy: 0.5755220981058766\n",
      "Average accuracy: 89.10274718102926 %\n",
      "Confusion matrix, without normalization\n"
     ]
    },
    {
     "data": {
      "image/png": "[encoded data removed]",
      "text/plain": [
       "<Figure size 432x288 with 2 Axes>"
      ]
     },
     "metadata": {
      "needs_background": "light"
     },
     "output_type": "display_data"
    },
    {
     "name": "stdout",
     "output_type": "stream",
     "text": [
      "Done\n"
     ]
    }
   ],
   "source": [
    "import numpy as np \n",
    "#import matplotlib.pyplot as plt \n",
    "#import seaborn as sbs \n",
    "#import tensorflow as tf \n",
    "import sklearn as sk \n",
    "import pandas as pd\n",
    "\n",
    "from sklearn import tree\n",
    "from sklearn.ensemble import ExtraTreesClassifier\n",
    "import matplotlib.pyplot as plt\n",
    "\n",
    "from sklearn.model_selection import KFold, cross_val_score\n",
    "from sklearn.metrics import confusion_matrix\n",
    "import itertools\n",
    "\n",
    "def plot_confusion_matrix(cm, classes,\n",
    "                          normalize=False,\n",
    "                          title='Confusion matrix',\n",
    "                          cmap=plt.cm.Blues):\n",
    "    \"\"\"\n",
    "    This function prints and plots the confusion matrix.\n",
    "    Normalization can be applied by setting `normalize=True`.\n",
    "    \"\"\"\n",
    "    plt.imshow(cm, interpolation='nearest', cmap=cmap)\n",
    "    plt.title(title)\n",
    "    plt.colorbar()\n",
    "    tick_marks = np.arange(len(classes))\n",
    "    plt.xticks(tick_marks, classes, rotation=45)\n",
    "    plt.yticks(tick_marks, classes)\n",
    "\n",
    "    if normalize:\n",
    "        cm = cm.astype('float') / cm.sum(axis=1)[:, np.newaxis]\n",
    "        print(\"Normalized confusion matrix\")\n",
    "    else:\n",
    "        print('Confusion matrix, without normalization')\n",
    "\n",
    "    thresh = cm.max() / 2.\n",
    "    for i, j in itertools.product(range(cm.shape[0]), range(cm.shape[1])):\n",
    "        t = \"(%.2f)\"%(cm[i, j])\n",
    "        #print t\n",
    "#         plt.text(j, i, t,\n",
    "#                  horizontalalignment=\"center\",\n",
    "#                  color=\"white\" if cm[i, j] > thresh else \"black\")\n",
    "\n",
    "    plt.tight_layout()\n",
    "    plt.ylabel('True label')\n",
    "    plt.xlabel('Predicted label')\n",
    "\n",
    "\n",
    "\n",
    "\n",
    "data = pd.read_csv(\"bank-additional-full.csv\") \n",
    "#data = pd.read_csv(\"bank-additional-full.csv\",sep=',') \n",
    "#print(data.head(n=5))\n",
    "\n",
    "df_dummies = pd.get_dummies(data)\n",
    "df_dummies.pop(\"y_no\")\n",
    "df_dummies.pop(\"duration\")\n",
    "\n",
    "df_train = df_dummies.copy()\n",
    "df_train.pop(\"y_yes\")\n",
    "df_target = df_dummies[\"y_yes\"]\n",
    "\n",
    "plt.hist(df_target, normed=False, bins=10)\n",
    "plt.ylabel('Value')\n",
    "plt.show()\n",
    "\n",
    "clf = ExtraTreesClassifier(min_samples_split=5,max_depth=10)\n",
    "score = []\n",
    "k_fold = KFold(n_splits=10)\n",
    "\n",
    "\n",
    "for train_indices, test_indices in k_fold.split(df_train):\n",
    "\n",
    "    clf.fit(df_train.values[train_indices], df_target.values[train_indices])\n",
    "    score.append(clf.score(df_train.values[test_indices], df_target.values[test_indices]))\n",
    "    print('Fold test accuracy:', score[-1])\n",
    "\n",
    "importances = clf.feature_importances_\n",
    "\n",
    "print('Average accuracy: {} %'.format(np.mean(score)*100))\n",
    "\n",
    "\n",
    "y_pred = clf.predict(df_train.values)\n",
    "cnf_matrix = confusion_matrix(df_target.values, y_pred)\n",
    "\n",
    "np.set_printoptions(precision=2)\n",
    "\n",
    "# Plot non-normalized confusion matrix\n",
    "plt.figure()\n",
    "plot_confusion_matrix(cnf_matrix, classes=range(len(set(df_target.values))), normalize = False,\n",
    "                      title='Confusion matrix')\n",
    "plt.show()\n",
    "print(\"Done\")\n",
    "\n",
    "                "
   ]
  },
  {
   "cell_type": "code",
   "execution_count": null,
   "metadata": {},
   "outputs": [],
   "source": []
  }
 ],
 "metadata": {
  "kernelspec": {
   "display_name": "Python 3",
   "language": "python",
   "name": "python3"
  },
  "language_info": {
   "codemirror_mode": {
    "name": "ipython",
    "version": 3
   },
   "file_extension": ".py",
   "mimetype": "text/x-python",
   "name": "python",
   "nbconvert_exporter": "python",
   "pygments_lexer": "ipython3",
   "version": "3.6.8"
  }
 },
 "nbformat": 4,
 "nbformat_minor": 2
}
